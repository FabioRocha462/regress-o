{
  "nbformat": 4,
  "nbformat_minor": 0,
  "metadata": {
    "colab": {
      "name": "Regressão1.ipynb",
      "provenance": [],
      "toc_visible": true
    },
    "kernelspec": {
      "name": "python3",
      "display_name": "Python 3"
    },
    "language_info": {
      "name": "python"
    }
  },
  "cells": [
    {
      "cell_type": "code",
      "execution_count": null,
      "metadata": {
        "id": "pIaVlb_8SO63"
      },
      "outputs": [],
      "source": [
        "import pandas as pd\n",
        "import matplotlib. pyplot as plt\n",
        "import numpy as np\n",
        "from sklearn import linear_model\n",
        "from sklearn.datasets import make_regression\n",
        "import warnings"
      ]
    },
    {
      "cell_type": "code",
      "source": [
        "df = pd.read_excel('/content/Planilha sem título.xlsx')"
      ],
      "metadata": {
        "id": "NHYferhmTEvt"
      },
      "execution_count": null,
      "outputs": []
    },
    {
      "cell_type": "markdown",
      "source": [
        "**Puxando os Valores da planilha**"
      ],
      "metadata": {
        "id": "6IMYmYwaVzqI"
      }
    },
    {
      "cell_type": "markdown",
      "source": [
        ""
      ],
      "metadata": {
        "id": "QYBIeoAlVzdK"
      }
    },
    {
      "cell_type": "code",
      "source": [
        "x=df['Modelo 1']\n",
        "y=df['Modelo 2']\n",
        "z=df['Modelo 3']\n",
        "\n"
      ],
      "metadata": {
        "id": "C-2WFEFoTexB"
      },
      "execution_count": null,
      "outputs": []
    },
    {
      "cell_type": "code",
      "source": [
        ""
      ],
      "metadata": {
        "id": "tdgZzFuGTvHa"
      },
      "execution_count": null,
      "outputs": []
    },
    {
      "cell_type": "markdown",
      "source": [
        "# **Retirando os valores NaN da tabela para Evitar erro**\n",
        "\n",
        "> Bloco com recuo\n",
        "\n"
      ],
      "metadata": {
        "id": "uZqURJoPVgIL"
      }
    },
    {
      "cell_type": "code",
      "source": [
        "x=x.dropna()\n",
        "y=y.dropna()\n",
        "x1 = np.array(x)\n",
        "y1 = np.array(y)"
      ],
      "metadata": {
        "id": "XkvcwmY_iAo3"
      },
      "execution_count": null,
      "outputs": []
    },
    {
      "cell_type": "markdown",
      "source": [
        ""
      ],
      "metadata": {
        "id": "KU4PSHLfWHdH"
      }
    },
    {
      "cell_type": "code",
      "source": [
        "with warnings.catch_warnings():\n",
        "    warnings.simplefilter('ignore', np.RankWarning)\n",
        "\n"
      ],
      "metadata": {
        "id": "edf_taI1j0LD"
      },
      "execution_count": null,
      "outputs": []
    },
    {
      "cell_type": "markdown",
      "source": [
        "**Criando um array para ser o nossos dados de entrada**"
      ],
      "metadata": {
        "id": "ft--AN90X1oU"
      }
    },
    {
      "cell_type": "code",
      "source": [
        "Array_x=[]\n",
        "i=0\n",
        "for item in x1:\n",
        "  Array_x.append(i)\n",
        "  i+=1\n"
      ],
      "metadata": {
        "id": "-VOq_zm6kXCs"
      },
      "execution_count": null,
      "outputs": []
    },
    {
      "cell_type": "markdown",
      "source": [
        "**Plotei os dados encontrados**"
      ],
      "metadata": {
        "id": "XSaAOTRMYBZk"
      }
    },
    {
      "cell_type": "code",
      "source": [
        "plt.scatter(Array_x,x1)"
      ],
      "metadata": {
        "colab": {
          "base_uri": "https://localhost:8080/",
          "height": 303
        },
        "id": "AoZbMNdQOejp",
        "outputId": "bf1d692f-6c19-44a7-faf3-48fca568c2dd"
      },
      "execution_count": null,
      "outputs": [
        {
          "output_type": "execute_result",
          "data": {
            "text/plain": [
              "<matplotlib.collections.PathCollection at 0x7f334c646b90>"
            ]
          },
          "metadata": {},
          "execution_count": 194
        },
        {
          "output_type": "display_data",
          "data": {
            "image/png": "[encoded data removed]",
            "text/plain": [
              "<Figure size 432x288 with 1 Axes>"
            ]
          },
          "metadata": {
            "needs_background": "light"
          }
        }
      ]
    },
    {
      "cell_type": "markdown",
      "source": [
        "**Fiz a Regressão e o usei esse Reshape, só funcionou quando usei ele**"
      ],
      "metadata": {
        "id": "E7rfvBi2YJiW"
      }
    },
    {
      "cell_type": "code",
      "source": [
        "regressao = linear_model.LinearRegression()\n",
        "Array_x = np.array(Array_x).reshape(-1, 1)\n",
        "x1 = np.array(x1).reshape(-1,1)\n",
        "regressao.fit(Array_x,x1)\n"
      ],
      "metadata": {
        "colab": {
          "base_uri": "https://localhost:8080/"
        },
        "id": "UqRRxI9NPXhy",
        "outputId": "15cdfb8c-892f-43bc-dd90-c0d0e16b578c"
      },
      "execution_count": null,
      "outputs": [
        {
          "output_type": "execute_result",
          "data": {
            "text/plain": [
              "LinearRegression()"
            ]
          },
          "metadata": {},
          "execution_count": 207
        }
      ]
    },
    {
      "cell_type": "markdown",
      "source": [
        "# **Foi nessa parte que foi o que agilizou, ele já me dá o coeficiente Ângular e o Coeficiente Linear **"
      ],
      "metadata": {
        "id": "fbNd24EBYYpE"
      }
    },
    {
      "cell_type": "code",
      "source": [
        "a_coeff = regressao.coef_\n",
        "l_coeff = regressao.intercept_"
      ],
      "metadata": {
        "id": "R8brFZKdTzNI"
      },
      "execution_count": null,
      "outputs": []
    },
    {
      "cell_type": "markdown",
      "source": [
        "# ***Olha eles aqui***"
      ],
      "metadata": {
        "id": "23hsK6FlY9xY"
      }
    },
    {
      "cell_type": "code",
      "source": [
        "print(a_coeff)\n",
        "print(l_coeff)"
      ],
      "metadata": {
        "colab": {
          "base_uri": "https://localhost:8080/"
        },
        "id": "FXw-0ze6UDD4",
        "outputId": "2f22f421-a2c8-4239-eaf5-133704e7b282"
      },
      "execution_count": null,
      "outputs": [
        {
          "output_type": "stream",
          "name": "stdout",
          "text": [
            "[[0.10074246]]\n",
            "[5.15617838]\n"
          ]
        }
      ]
    },
    {
      "cell_type": "code",
      "source": [
        ""
      ],
      "metadata": {
        "id": "B7JYoVkiZfk4"
      },
      "execution_count": null,
      "outputs": []
    },
    {
      "cell_type": "markdown",
      "source": [
        "# **E Aqui eu mostro minha reta, usando o coeficientes corretos na reta**"
      ],
      "metadata": {
        "id": "Z1y4yIGNZG_L"
      }
    },
    {
      "cell_type": "code",
      "source": [
        "plt.scatter(Array_x,x1)\n",
        "plt.plot(Array_x, l_coeff + a_coeff*Array_x, color='red')\n",
        "plt.show()"
      ],
      "metadata": {
        "colab": {
          "base_uri": "https://localhost:8080/",
          "height": 265
        },
        "id": "YTTL89ZaUV1h",
        "outputId": "1fe5d57c-c50c-46b2-8e20-a925f277b6fe"
      },
      "execution_count": null,
      "outputs": [
        {
          "output_type": "display_data",
          "data": {
            "image/png": "[encoded data removed]",
            "text/plain": [
              "<Figure size 432x288 with 1 Axes>"
            ]
          },
          "metadata": {
            "needs_background": "light"
          }
        }
      ]
    },
    {
      "cell_type": "markdown",
      "source": [
        "**Prevendo os dados**"
      ],
      "metadata": {
        "id": "KhjSeiUlaOmR"
      }
    },
    {
      "cell_type": "code",
      "source": [
        "entrada= 55"
      ],
      "metadata": {
        "id": "ZhV0lnKCZiD_"
      },
      "execution_count": null,
      "outputs": []
    },
    {
      "cell_type": "code",
      "source": [
        "Result = entrada*a_coeff + l_coeff\n",
        "print(Result)"
      ],
      "metadata": {
        "colab": {
          "base_uri": "https://localhost:8080/"
        },
        "id": "xmu-XmOlZhwJ",
        "outputId": "4b4a5115-92e8-4b3b-82a9-0b6beee6bf05"
      },
      "execution_count": null,
      "outputs": [
        {
          "output_type": "stream",
          "name": "stdout",
          "text": [
            "[[10.69701361]]\n"
          ]
        }
      ]
    }
  ]
}